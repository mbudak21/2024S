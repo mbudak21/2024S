{
 "cells": [
  {
   "cell_type": "code",
   "execution_count": 1,
   "metadata": {},
   "outputs": [],
   "source": [
    "import array\n",
    "from math import sqrt\n",
    "\n",
    "def next_power_of_2(x):\n",
    "    return 1 << (x-1).bit_length()"
   ]
  },
  {
   "cell_type": "code",
   "execution_count": 9,
   "metadata": {},
   "outputs": [],
   "source": [
    "class bitVector(): # V2\n",
    "    def __init__(self, u):\n",
    "        \n",
    "        self.u = next_power_of_2(u)\n",
    "        if self.u == 2:\n",
    "            self.array = array.array('b', [0] * 2) # For u=2, use a simple binary array\n",
    "        else:\n",
    "            # For u>2, create a nested structure of bitVectors\n",
    "            self.array = [bitVector(int(sqrt(u))) for _ in range(int(sqrt(u)))]\n",
    "            self.isEmpty = bitVector(int(sqrt(u)))\n",
    "\n",
    "    def __repr__(self):\n",
    "        if self.u == 2:\n",
    "            # Directly return the representation for the simple binary array case\n",
    "            return ', '.join(str(x) for x in self.array)\n",
    "        else:\n",
    "            # For u>2, return the representation of the nested structure\n",
    "            return ', '.join(i.__repr__() for i in self.array)\n",
    "\n",
    "    def __str__(self):\n",
    "        return f\"[{self.__repr__()}]\"\n",
    "\n",
    "    def _high(self, x):\n",
    "        return x // int(sqrt(self.u))\n",
    "    \n",
    "    def _low(self, x):\n",
    "        return x % int(sqrt(self.u))\n",
    "\n",
    "    def insert(self, x):\n",
    "        self.array[self._high(x)].insert(self._low(x))\n",
    "        self.isEmpty.insert(self._high(x))\n",
    "\n",
    "    def delete(self, x):\n",
    "        pass\n",
    "\n",
    "    def successor(self, x):\n",
    "        i = self._high(x)\n",
    "        j = self.array[i].successor(self._low(x))\n",
    "\n",
    "        if j == float('inf'):\n",
    "            i = self.isEmpty"
   ]
  },
  {
   "cell_type": "code",
   "execution_count": 10,
   "metadata": {},
   "outputs": [
    {
     "name": "stdout",
     "output_type": "stream",
     "text": [
      "[0, 0, 0, 0, 0, 0, 0, 0, 0, 0, 0, 0, 0, 0, 0, 0]\n"
     ]
    },
    {
     "ename": "AttributeError",
     "evalue": "'int' object has no attribute 'insert'",
     "output_type": "error",
     "traceback": [
      "\u001b[1;31m---------------------------------------------------------------------------\u001b[0m",
      "\u001b[1;31mAttributeError\u001b[0m                            Traceback (most recent call last)",
      "Cell \u001b[1;32mIn[10], line 3\u001b[0m\n\u001b[0;32m      1\u001b[0m a \u001b[38;5;241m=\u001b[39m bitVector(\u001b[38;5;241m16\u001b[39m)\n\u001b[0;32m      2\u001b[0m \u001b[38;5;28mprint\u001b[39m(a)\n\u001b[1;32m----> 3\u001b[0m \u001b[43ma\u001b[49m\u001b[38;5;241;43m.\u001b[39;49m\u001b[43minsert\u001b[49m\u001b[43m(\u001b[49m\u001b[38;5;241;43m7\u001b[39;49m\u001b[43m)\u001b[49m\n\u001b[0;32m      4\u001b[0m a\u001b[38;5;241m.\u001b[39minsert(\u001b[38;5;241m8\u001b[39m)\n\u001b[0;32m      5\u001b[0m \u001b[38;5;28mprint\u001b[39m(a)\n",
      "Cell \u001b[1;32mIn[9], line 31\u001b[0m, in \u001b[0;36mbitVector.insert\u001b[1;34m(self, x)\u001b[0m\n\u001b[0;32m     29\u001b[0m \u001b[38;5;28;01mdef\u001b[39;00m \u001b[38;5;21minsert\u001b[39m(\u001b[38;5;28mself\u001b[39m, x):\n\u001b[1;32m---> 31\u001b[0m     \u001b[38;5;28;43mself\u001b[39;49m\u001b[38;5;241;43m.\u001b[39;49m\u001b[43marray\u001b[49m\u001b[43m[\u001b[49m\u001b[38;5;28;43mself\u001b[39;49m\u001b[38;5;241;43m.\u001b[39;49m\u001b[43m_high\u001b[49m\u001b[43m(\u001b[49m\u001b[43mx\u001b[49m\u001b[43m)\u001b[49m\u001b[43m]\u001b[49m\u001b[38;5;241;43m.\u001b[39;49m\u001b[43minsert\u001b[49m\u001b[43m(\u001b[49m\u001b[38;5;28;43mself\u001b[39;49m\u001b[38;5;241;43m.\u001b[39;49m\u001b[43m_low\u001b[49m\u001b[43m(\u001b[49m\u001b[43mx\u001b[49m\u001b[43m)\u001b[49m\u001b[43m)\u001b[49m\n\u001b[0;32m     32\u001b[0m     \u001b[38;5;28mself\u001b[39m\u001b[38;5;241m.\u001b[39misEmpty\u001b[38;5;241m.\u001b[39minsert(\u001b[38;5;28mself\u001b[39m\u001b[38;5;241m.\u001b[39m_high(x))\n",
      "Cell \u001b[1;32mIn[9], line 31\u001b[0m, in \u001b[0;36mbitVector.insert\u001b[1;34m(self, x)\u001b[0m\n\u001b[0;32m     29\u001b[0m \u001b[38;5;28;01mdef\u001b[39;00m \u001b[38;5;21minsert\u001b[39m(\u001b[38;5;28mself\u001b[39m, x):\n\u001b[1;32m---> 31\u001b[0m     \u001b[38;5;28;43mself\u001b[39;49m\u001b[38;5;241;43m.\u001b[39;49m\u001b[43marray\u001b[49m\u001b[43m[\u001b[49m\u001b[38;5;28;43mself\u001b[39;49m\u001b[38;5;241;43m.\u001b[39;49m\u001b[43m_high\u001b[49m\u001b[43m(\u001b[49m\u001b[43mx\u001b[49m\u001b[43m)\u001b[49m\u001b[43m]\u001b[49m\u001b[38;5;241;43m.\u001b[39;49m\u001b[43minsert\u001b[49m\u001b[43m(\u001b[49m\u001b[38;5;28;43mself\u001b[39;49m\u001b[38;5;241;43m.\u001b[39;49m\u001b[43m_low\u001b[49m\u001b[43m(\u001b[49m\u001b[43mx\u001b[49m\u001b[43m)\u001b[49m\u001b[43m)\u001b[49m\n\u001b[0;32m     32\u001b[0m     \u001b[38;5;28mself\u001b[39m\u001b[38;5;241m.\u001b[39misEmpty\u001b[38;5;241m.\u001b[39minsert(\u001b[38;5;28mself\u001b[39m\u001b[38;5;241m.\u001b[39m_high(x))\n",
      "Cell \u001b[1;32mIn[9], line 31\u001b[0m, in \u001b[0;36mbitVector.insert\u001b[1;34m(self, x)\u001b[0m\n\u001b[0;32m     29\u001b[0m \u001b[38;5;28;01mdef\u001b[39;00m \u001b[38;5;21minsert\u001b[39m(\u001b[38;5;28mself\u001b[39m, x):\n\u001b[1;32m---> 31\u001b[0m     \u001b[38;5;28;43mself\u001b[39;49m\u001b[38;5;241;43m.\u001b[39;49m\u001b[43marray\u001b[49m\u001b[43m[\u001b[49m\u001b[38;5;28;43mself\u001b[39;49m\u001b[38;5;241;43m.\u001b[39;49m\u001b[43m_high\u001b[49m\u001b[43m(\u001b[49m\u001b[43mx\u001b[49m\u001b[43m)\u001b[49m\u001b[43m]\u001b[49m\u001b[38;5;241;43m.\u001b[39;49m\u001b[43minsert\u001b[49m(\u001b[38;5;28mself\u001b[39m\u001b[38;5;241m.\u001b[39m_low(x))\n\u001b[0;32m     32\u001b[0m     \u001b[38;5;28mself\u001b[39m\u001b[38;5;241m.\u001b[39misEmpty\u001b[38;5;241m.\u001b[39minsert(\u001b[38;5;28mself\u001b[39m\u001b[38;5;241m.\u001b[39m_high(x))\n",
      "\u001b[1;31mAttributeError\u001b[0m: 'int' object has no attribute 'insert'"
     ]
    }
   ],
   "source": [
    "a = bitVector(16)\n",
    "print(a)\n",
    "a.insert(7)\n",
    "a.insert(8)\n",
    "print(a)\n",
    "# a.insert(9)\n",
    "# print(a.successor(7))"
   ]
  }
 ],
 "metadata": {
  "kernelspec": {
   "display_name": "Python 3",
   "language": "python",
   "name": "python3"
  },
  "language_info": {
   "codemirror_mode": {
    "name": "ipython",
    "version": 3
   },
   "file_extension": ".py",
   "mimetype": "text/x-python",
   "name": "python",
   "nbconvert_exporter": "python",
   "pygments_lexer": "ipython3",
   "version": "3.12.2"
  }
 },
 "nbformat": 4,
 "nbformat_minor": 2
}
